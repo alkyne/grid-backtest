{
 "cells": [
  {
   "cell_type": "code",
   "execution_count": 3,
   "id": "7dcbd596",
   "metadata": {},
   "outputs": [],
   "source": [
    "import pandas as pd\n",
    "\n",
    "df = pd.read_csv(\"../data/coinone/usdt/5m/usdt_5m_2025-01.csv.gz\")"
   ]
  },
  {
   "cell_type": "code",
   "execution_count": 4,
   "id": "69ef6746",
   "metadata": {},
   "outputs": [
    {
     "name": "stdout",
     "output_type": "stream",
     "text": [
      "         timestamp_kst    market timeframe    open    high     low   close  \\\n",
      "0  2025-01-01 00:00:00  USDT/KRW        5m  1485.0  1486.0  1484.1  1485.0   \n",
      "1  2025-01-01 00:05:00  USDT/KRW        5m  1485.0  1486.0  1482.9  1482.9   \n",
      "2  2025-01-01 00:10:00  USDT/KRW        5m  1482.9  1484.0  1482.6  1483.0   \n",
      "3  2025-01-01 00:15:00  USDT/KRW        5m  1483.1  1484.0  1481.7  1482.0   \n",
      "4  2025-01-01 00:20:00  USDT/KRW        5m  1482.0  1482.9  1481.0  1481.0   \n",
      "\n",
      "          volume              timestamp_utc          ts_ms _month_kst  \n",
      "0   48222.073155  2024-12-31 15:00:00+00:00  1735657200000    2025-01  \n",
      "1  114855.350040  2024-12-31 15:05:00+00:00  1735657500000    2025-01  \n",
      "2   95607.149041  2024-12-31 15:10:00+00:00  1735657800000    2025-01  \n",
      "3   62093.496568  2024-12-31 15:15:00+00:00  1735658100000    2025-01  \n",
      "4   30706.855525  2024-12-31 15:20:00+00:00  1735658400000    2025-01  \n",
      "== tail == \n",
      "            timestamp_kst    market timeframe    open    high     low   close  \\\n",
      "8923  2025-01-31 23:35:00  USDT/KRW        5m  1513.1  1514.7  1513.1  1514.0   \n",
      "8924  2025-01-31 23:40:00  USDT/KRW        5m  1514.0  1514.7  1512.7  1513.7   \n",
      "8925  2025-01-31 23:45:00  USDT/KRW        5m  1513.7  1515.5  1512.8  1515.5   \n",
      "8926  2025-01-31 23:50:00  USDT/KRW        5m  1515.5  1516.2  1514.6  1514.7   \n",
      "8927  2025-01-31 23:55:00  USDT/KRW        5m  1515.0  1515.8  1514.6  1515.0   \n",
      "\n",
      "            volume              timestamp_utc          ts_ms _month_kst  \n",
      "8923  57113.371363  2025-01-31 14:35:00+00:00  1738334100000    2025-01  \n",
      "8924  45935.204200  2025-01-31 14:40:00+00:00  1738334400000    2025-01  \n",
      "8925  79342.350527  2025-01-31 14:45:00+00:00  1738334700000    2025-01  \n",
      "8926  46207.066514  2025-01-31 14:50:00+00:00  1738335000000    2025-01  \n",
      "8927  40016.458086  2025-01-31 14:55:00+00:00  1738335300000    2025-01  \n"
     ]
    }
   ],
   "source": [
    "\n",
    "print(df.head())\n",
    "\n",
    "print (\"== tail == \")\n",
    "print(df.tail())\n",
    "\n",
    "# print(df.info())\n",
    "# print(df.describe())\n",
    "\n",
    "# print(df.columns)"
   ]
  },
  {
   "cell_type": "code",
   "execution_count": null,
   "id": "43e5f62c",
   "metadata": {},
   "outputs": [],
   "source": []
  }
 ],
 "metadata": {
  "kernelspec": {
   "display_name": "venv",
   "language": "python",
   "name": "python3"
  },
  "language_info": {
   "codemirror_mode": {
    "name": "ipython",
    "version": 3
   },
   "file_extension": ".py",
   "mimetype": "text/x-python",
   "name": "python",
   "nbconvert_exporter": "python",
   "pygments_lexer": "ipython3",
   "version": "3.13.5"
  }
 },
 "nbformat": 4,
 "nbformat_minor": 5
}
